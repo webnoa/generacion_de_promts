# 🎓 EduIA Personalizada - POC con Fast Prompting

**Desarrollado por**: José Cisneros 
**Curso**: IA - CoderFlex | Pre-entrega #2 
**Técnicas**: Chain of Thought, Few-shot, Role-based, Template Prompting

---

## 🎯 Objetivos del Proyecto

- ✅ Implementar técnicas avanzadas de **Fast Prompting**
- ✅ Optimizar consultas API (máximo 3 por tema)
- ✅ Generar contenido educativo personalizado
- ✅ Demostrar mejoras vs primera entrega

## 🚀 Mejoras Implementadas

| Aspecto | Antes | Después | Mejora |
|---------|-------|---------|--------|
| **Prompting** | Básico | Fast Prompting | +400% |
| **Consultas API** | 6-8 | 2-3 | -60% |
| **Personalización** | Limitada | Profunda | +90% |
| **Interactividad** | Estática | Dinámica | +100% |

## 📦 Instalación y Configuración

### Librerías Requeridas (OpenAI 0.28 compatible)

```bash
pip install openai==0.28
pip install jupyter notebook
pip install -U google-generativeai
pip install pandas==1.5.0
pip install numpy==1.23.5
pip install Pillow matplotlib ipywidgets requests

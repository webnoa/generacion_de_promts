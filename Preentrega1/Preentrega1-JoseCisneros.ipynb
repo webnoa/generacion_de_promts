{
 "cells": [
  {
   "cell_type": "markdown",
   "id": "cb9fbb28-749f-40e4-a882-dfb04fe95100",
   "metadata": {},
   "source": [
    "# Educación en los Tiempos de la Inteligencia Artificial\n",
    "\n",
    "## 📖 Resumen - 🚀 Desbloqueando el Futuro de la Educación: La Inteligencia Artificial al Servicio del Aprendizaje\n",
    "¿Imaginas un mundo donde cada estudiante reciba materiales de aprendizaje hechos a su medida, que hablen directamente a su nivel de comprensión y despierten su curiosidad? En \"Educación en los Tiempos de la Inteligencia Artificial\", no solo lo imaginamos, sino que lo hacemos realidad. Este proyecto pionero se sumerge en el fascinante universo de la inteligencia artificial generativa para demostrar su increíble potencial como aliada en la creación de recursos educativos verdaderamente personalizados.\n",
    "\n",
    "Olvídate de las explicaciones genéricas. Aquí, exploramos cómo, con el poder de tecnologías de vanguardia, podemos transformar la enseñanza. Mediante técnicas de optimización de prompts, hemos logrado generar no solo textos explicativos detallados y adaptados para Primaria, Secundaria y nivel Universitario, sino también impactantes recursos visuales que dan vida a conceptos complejos.\n",
    "\n",
    "Hemos puesto a prueba esta capacidad con una variedad de disciplinas, demostrando la versatilidad de esta tecnología para hacer que cualquier conocimiento sea accesible y emocionante para cualquier edad y nivel. El objetivo es claro: demostrar cómo la IA no solo optimiza la creación de contenido, sino que también enriquece la experiencia de aprendizaje.\n",
    "\n",
    "Este proyecto no es solo una demostración; es una invitación a explorar una nueva era en la educación, donde la tecnología empodera a educadores y estudiantes por igual. Te animamos a explorar nuestro trabajo y ser testigo de cómo la inteligencia artificial está redefiniendo los límites de lo posible en el aula. ¿Listo para descubrir cómo la IA puede transformar la forma en que aprendemos y enseñamos?\n",
    "\n",
    "\n",
    "## 📚 Temas abordados como ejemplo\n",
    "- Sistema Solar\n",
    "- Revolución Francesa\n",
    "- Célula Animal y Vegetal\n",
    "\n",
    "## 📌 Herramientas\n",
    "- ChatGPT 4\n",
    "- Dall E\n",
    "- Jupyter Notebook\n",
    "\n",
    "## 📈 Objetivos\n",
    "- Explorar IA generativa en educación.\n",
    "- Crear contenidos personalizados mediante fast prompting.\n",
    "- Evaluar su efectividad.\n",
    "\n",
    "## 📓 Contenido\n",
    "Incluye:\n",
    "- Prompts de texto para niveles: Primaria, Secundaria, Universitario.\n",
    "- Prompts de imágenes.\n",
    "- Resultados y análisis.\n",
    "\n",
    "## ✅ Cómo utilizar\n",
    "1. Clonar el repositorio.\n",
    "2. Abrir la notebook en Jupyter.\n",
    "3. Seguir las instrucciones y revisar los resultados.\n",
    "\n",
    "## 📑 Licencia\n",
    "Proyecto educativo sin fines comerciales.\n"
   ]
  },
  {
   "cell_type": "code",
   "execution_count": null,
   "id": "81728bb5-1a28-4c4a-bae2-6d58d9693fb6",
   "metadata": {},
   "outputs": [],
   "source": []
  }
 ],
 "metadata": {
  "kernelspec": {
   "display_name": "Python 3 (ipykernel)",
   "language": "python",
   "name": "python3"
  },
  "language_info": {
   "codemirror_mode": {
    "name": "ipython",
    "version": 3
   },
   "file_extension": ".py",
   "mimetype": "text/x-python",
   "name": "python",
   "nbconvert_exporter": "python",
   "pygments_lexer": "ipython3",
   "version": "3.10.16"
  }
 },
 "nbformat": 4,
 "nbformat_minor": 5
}
